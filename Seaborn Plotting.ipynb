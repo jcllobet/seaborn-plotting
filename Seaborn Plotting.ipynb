{
 "cells": [
  {
   "cell_type": "code",
   "execution_count": 11,
   "metadata": {},
   "outputs": [],
   "source": [
    "## Files:\n",
    "# Video_example.json\n",
    "# recognized.json\n",
    "\n",
    "## Data inputs\n",
    "import numpy as np\n",
    "import pandas as pd\n",
    "import seaborn as sns\n",
    "import matplotlib as plt\n",
    "import json\n",
    "\n",
    "%matplotlib inline\n",
    "\n"
   ]
  },
  {
   "cell_type": "code",
   "execution_count": 33,
   "metadata": {},
   "outputs": [],
   "source": [
    "df = pd.read_json(\"video_example.json\")"
   ]
  },
  {
   "cell_type": "code",
   "execution_count": 34,
   "metadata": {},
   "outputs": [
    {
     "data": {
      "text/html": [
       "<div>\n",
       "<style scoped>\n",
       "    .dataframe tbody tr th:only-of-type {\n",
       "        vertical-align: middle;\n",
       "    }\n",
       "\n",
       "    .dataframe tbody tr th {\n",
       "        vertical-align: top;\n",
       "    }\n",
       "\n",
       "    .dataframe thead th {\n",
       "        text-align: right;\n",
       "    }\n",
       "</style>\n",
       "<table border=\"1\" class=\"dataframe\">\n",
       "  <thead>\n",
       "    <tr style=\"text-align: right;\">\n",
       "      <th></th>\n",
       "      <th>person1</th>\n",
       "      <th>person2</th>\n",
       "      <th>person3</th>\n",
       "    </tr>\n",
       "  </thead>\n",
       "  <tbody>\n",
       "    <tr>\n",
       "      <td>one-finger</td>\n",
       "      <td>[5.23, 8.76, 10.77, 11.78]</td>\n",
       "      <td>[5.23, 8.76]</td>\n",
       "      <td>[5.23, 8.76, 12.45]</td>\n",
       "    </tr>\n",
       "    <tr>\n",
       "      <td>two-fingers</td>\n",
       "      <td>[0.55, 7.75, 9.76, 12.79]</td>\n",
       "      <td>[2.5, 7.75, 9.76, 12.79]</td>\n",
       "      <td>[2.5, 7.75]</td>\n",
       "    </tr>\n",
       "    <tr>\n",
       "      <td>three-fingers</td>\n",
       "      <td>[6.75]</td>\n",
       "      <td>[6.75, 8.0]</td>\n",
       "      <td>[6.75, 8.0]</td>\n",
       "    </tr>\n",
       "    <tr>\n",
       "      <td>ok</td>\n",
       "      <td>[]</td>\n",
       "      <td>[4.65]</td>\n",
       "      <td>[4.65, 7.4, 11.3]</td>\n",
       "    </tr>\n",
       "  </tbody>\n",
       "</table>\n",
       "</div>"
      ],
      "text/plain": [
       "                                  person1                   person2  \\\n",
       "one-finger     [5.23, 8.76, 10.77, 11.78]              [5.23, 8.76]   \n",
       "two-fingers     [0.55, 7.75, 9.76, 12.79]  [2.5, 7.75, 9.76, 12.79]   \n",
       "three-fingers                      [6.75]               [6.75, 8.0]   \n",
       "ok                                     []                    [4.65]   \n",
       "\n",
       "                           person3  \n",
       "one-finger     [5.23, 8.76, 12.45]  \n",
       "two-fingers            [2.5, 7.75]  \n",
       "three-fingers          [6.75, 8.0]  \n",
       "ok               [4.65, 7.4, 11.3]  "
      ]
     },
     "execution_count": 34,
     "metadata": {},
     "output_type": "execute_result"
    }
   ],
   "source": [
    "df"
   ]
  },
  {
   "cell_type": "code",
   "execution_count": 20,
   "metadata": {},
   "outputs": [],
   "source": [
    "json_file_a = \"video_example.json\"\n",
    "json_file_b = \"recognized.json\"\n",
    "\n",
    "with open(json_file_a, 'r') as j:\n",
    "     video_contents = json.loads(j.read())\n",
    "        \n",
    "with open(json_file_b, 'r') as j:\n",
    "     txt_contents = json.loads(j.read())\n",
    "        \n"
   ]
  },
  {
   "cell_type": "code",
   "execution_count": 16,
   "metadata": {},
   "outputs": [
    {
     "data": {
      "text/plain": [
       "{'person1': {'one-finger': [5.23, 8.76, 10.77, 11.78],\n",
       "  'two-fingers': [0.55, 7.75, 9.76, 12.79],\n",
       "  'three-fingers': [6.75],\n",
       "  'ok': []},\n",
       " 'person2': {'one-finger': [5.23, 8.76],\n",
       "  'two-fingers': [2.5, 7.75, 9.76, 12.79],\n",
       "  'three-fingers': [6.75, 8.0],\n",
       "  'ok': [4.65]},\n",
       " 'person3': {'one-finger': [5.23, 8.76, 12.45],\n",
       "  'two-fingers': [2.5, 7.75],\n",
       "  'three-fingers': [6.75, 8.0],\n",
       "  'ok': [4.65, 7.4, 11.3]}}"
      ]
     },
     "execution_count": 16,
     "metadata": {},
     "output_type": "execute_result"
    }
   ],
   "source": [
    "video_contents"
   ]
  },
  {
   "cell_type": "code",
   "execution_count": 67,
   "metadata": {},
   "outputs": [],
   "source": [
    "def timestamp_finder(txt):\n",
    "    num_p = 1\n",
    "    match = False\n",
    "    d_time = {}\n",
    "\n",
    "    for frase in txt['results']:\n",
    "        dic_texto = frase['alternatives'][0]\n",
    "\n",
    "        if \"pregunta\" in dic_texto['transcript'] and match == False:\n",
    "            for w_match_d in dic_texto[\"words\"]:\n",
    "                if w_match_d[\"word\"] == \"pregunta\":\n",
    "                    d_time[\"pre\"+str(num_p)]=float(w_match_d[\"endTime\"][:-1])\n",
    "                    num_p+=1\n",
    "                    match = True\n",
    "                    print(\"match found at {} \\n\".format(w_match_d[\"endTime\"]))\n",
    "    return d_time"
   ]
  },
  {
   "cell_type": "code",
   "execution_count": 70,
   "metadata": {},
   "outputs": [
    {
     "name": "stdout",
     "output_type": "stream",
     "text": [
      "match found at 11.300s \n",
      "\n"
     ]
    }
   ],
   "source": [
    "t = timestamp_finder(txt_contents)"
   ]
  },
  {
   "cell_type": "code",
   "execution_count": 76,
   "metadata": {},
   "outputs": [
    {
     "name": "stdout",
     "output_type": "stream",
     "text": [
      "{'one-finger': [5.23, 8.76, 10.77, 11.78], 'two-fingers': [0.55, 7.75, 9.76, 12.79], 'three-fingers': [6.75], 'ok': []}\n",
      "{'one-finger': [5.23, 8.76], 'two-fingers': [2.5, 7.75, 9.76, 12.79], 'three-fingers': [6.75, 8.0], 'ok': [4.65]}\n",
      "{'one-finger': [5.23, 8.76, 12.45], 'two-fingers': [2.5, 7.75], 'three-fingers': [6.75, 8.0], 'ok': [4.65, 7.4, 11.3]}\n"
     ]
    }
   ],
   "source": [
    "#def create_plot(gestures, timestamp):\n",
    "for p in video_contents.keys():\n",
    "    print(video_contents[p])"
   ]
  },
  {
   "cell_type": "code",
   "execution_count": null,
   "metadata": {},
   "outputs": [],
   "source": [
    "def select_last_reaction(lista,timestamp):\n",
    "    criteria = []\n",
    "    for e in lista:\n",
    "        if "
   ]
  }
 ],
 "metadata": {
  "kernelspec": {
   "display_name": "Python 3",
   "language": "python",
   "name": "python3"
  },
  "language_info": {
   "codemirror_mode": {
    "name": "ipython",
    "version": 3
   },
   "file_extension": ".py",
   "mimetype": "text/x-python",
   "name": "python",
   "nbconvert_exporter": "python",
   "pygments_lexer": "ipython3",
   "version": "3.7.4"
  }
 },
 "nbformat": 4,
 "nbformat_minor": 2
}
